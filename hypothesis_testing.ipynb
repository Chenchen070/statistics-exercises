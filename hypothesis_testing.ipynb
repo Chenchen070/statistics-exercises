{
 "cells": [
  {
   "cell_type": "markdown",
   "id": "d388751f",
   "metadata": {},
   "source": [
    "### Exercises\n",
    "Do your work for this exercise in a jupyter notebook named hypothesis_testing.ipynb.\n",
    "\n",
    "For each of the following questions, formulate a null and alternative hypothesis (be as specific as you can be), then give an example of what a true positive, true negative, type I and type II errors would look like. Note that some of the questions are intentionally phrased in a vague way. It is your job to reword these as more precise questions that could be tested.\n",
    "\n",
    "* Has the network latency gone up since we switched internet service providers?\n",
    "* Is the website redesign any good?\n",
    "* Is our television ad driving more sales?\n"
   ]
  },
  {
   "cell_type": "markdown",
   "id": "96512817",
   "metadata": {},
   "source": [
    "Has the network latency gone up since we switched internet service providers?\n",
    " -- Hypotheses0 Network latency has stayed the same or has gone down since switching\n",
    " -- Alt Hypothesis network latency has gone up since switching\n",
    "\n",
    " -- True Positive -- low p-value , reject the Ho, -- latency has gone up\n",
    " -- False Positive -- low p-value, reject the Ho, -- sample size with generally high latency due to various reasons such as multiple people or time of day\n",
    " -- True Negative -- high p-value, fail to reject Ho -- latency has gone up\n",
    " -- False Negative -- high p-value, fail to reject Ho -- sample size latency is not higher due to service type\n",
    "\n",
    "\n",
    "\n",
    "Is the website redesign any good?\n",
    "-- Null Hypothesis -- the redesigned website draws more traffic than previous version\n",
    "-- alt Hypothesis -- the redesigned website draws less or same amout of traffic than previous version\n",
    "\n",
    "-- True Positive -- low p-value , reject the Ho, -- the new website does not draw more traffic\n",
    " -- False Positive -- low p-value, reject the Ho, -- sample size was during a holiday and did not account for the fall in overall traffic\n",
    " -- True Negative -- high p-value, fail to reject Ho -- the webiste draws more traffic\n",
    " -- False Negative -- high p-value, fail to reject Ho -- sample size was included set during a marketing campaign for that day\n",
    "\n",
    "\n",
    "\n",
    "Is our television ad driving more sales?\n",
    "-- Null H - The television ad did not affect sales or stayed the same \n",
    "-- Alt H - The television ad drove more sales\n",
    "\n",
    " --True Positive -- low p-value , reject the Ho, -- Television sales increased\n",
    " -- False Positive -- low p-value, reject the Ho, -- the occurred during black friday and overall sales were higher\n",
    " -- True Negative -- high p-value, fail to reject Ho -- Ad had no effect no sales\n",
    " -- False Negative -- high p-value, fail to reject Ho -- Ad was not marketed to the right audience or the right time"
   ]
  },
  {
   "cell_type": "code",
   "execution_count": null,
   "id": "e6760414",
   "metadata": {},
   "outputs": [],
   "source": []
  },
  {
   "cell_type": "code",
   "execution_count": null,
   "id": "32577492",
   "metadata": {},
   "outputs": [],
   "source": []
  },
  {
   "cell_type": "code",
   "execution_count": null,
   "id": "40160399",
   "metadata": {},
   "outputs": [],
   "source": []
  },
  {
   "cell_type": "code",
   "execution_count": null,
   "id": "96d36d76",
   "metadata": {},
   "outputs": [],
   "source": []
  },
  {
   "cell_type": "code",
   "execution_count": null,
   "id": "be966862",
   "metadata": {},
   "outputs": [],
   "source": []
  },
  {
   "cell_type": "code",
   "execution_count": null,
   "id": "929a4016",
   "metadata": {},
   "outputs": [],
   "source": []
  },
  {
   "cell_type": "code",
   "execution_count": null,
   "id": "09eff314",
   "metadata": {},
   "outputs": [],
   "source": []
  }
 ],
 "metadata": {
  "kernelspec": {
   "display_name": "Python 3 (ipykernel)",
   "language": "python",
   "name": "python3"
  },
  "language_info": {
   "codemirror_mode": {
    "name": "ipython",
    "version": 3
   },
   "file_extension": ".py",
   "mimetype": "text/x-python",
   "name": "python",
   "nbconvert_exporter": "python",
   "pygments_lexer": "ipython3",
   "version": "3.9.12"
  }
 },
 "nbformat": 4,
 "nbformat_minor": 5
}
