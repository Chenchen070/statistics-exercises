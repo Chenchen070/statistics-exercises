{
 "cells": [
  {
   "cell_type": "code",
   "execution_count": 2,
   "id": "918d732c",
   "metadata": {},
   "outputs": [],
   "source": [
    "import numpy as np\n",
    "import pandas as pd\n",
    "import matplotlib.pyplot as plt"
   ]
  },
  {
   "cell_type": "markdown",
   "id": "499da211",
   "metadata": {},
   "source": [
    "### 1. How likely is it that you roll doubles when rolling two dice?"
   ]
  },
  {
   "cell_type": "code",
   "execution_count": 34,
   "id": "33836d28",
   "metadata": {},
   "outputs": [
    {
     "data": {
      "text/html": [
       "<div>\n",
       "<style scoped>\n",
       "    .dataframe tbody tr th:only-of-type {\n",
       "        vertical-align: middle;\n",
       "    }\n",
       "\n",
       "    .dataframe tbody tr th {\n",
       "        vertical-align: top;\n",
       "    }\n",
       "\n",
       "    .dataframe thead th {\n",
       "        text-align: right;\n",
       "    }\n",
       "</style>\n",
       "<table border=\"1\" class=\"dataframe\">\n",
       "  <thead>\n",
       "    <tr style=\"text-align: right;\">\n",
       "      <th></th>\n",
       "      <th>0</th>\n",
       "      <th>1</th>\n",
       "    </tr>\n",
       "  </thead>\n",
       "  <tbody>\n",
       "    <tr>\n",
       "      <th>0</th>\n",
       "      <td>2</td>\n",
       "      <td>2</td>\n",
       "    </tr>\n",
       "    <tr>\n",
       "      <th>1</th>\n",
       "      <td>3</td>\n",
       "      <td>4</td>\n",
       "    </tr>\n",
       "    <tr>\n",
       "      <th>2</th>\n",
       "      <td>2</td>\n",
       "      <td>1</td>\n",
       "    </tr>\n",
       "    <tr>\n",
       "      <th>3</th>\n",
       "      <td>5</td>\n",
       "      <td>1</td>\n",
       "    </tr>\n",
       "    <tr>\n",
       "      <th>4</th>\n",
       "      <td>4</td>\n",
       "      <td>4</td>\n",
       "    </tr>\n",
       "  </tbody>\n",
       "</table>\n",
       "</div>"
      ],
      "text/plain": [
       "   0  1\n",
       "0  2  2\n",
       "1  3  4\n",
       "2  2  1\n",
       "3  5  1\n",
       "4  4  4"
      ]
     },
     "execution_count": 34,
     "metadata": {},
     "output_type": "execute_result"
    }
   ],
   "source": [
    "exercise1 = pd.DataFrame(np.random.choice([1,2,3,4,5,6], size = (100000,2)))\n",
    "exercise1.head()"
   ]
  },
  {
   "cell_type": "code",
   "execution_count": 19,
   "id": "8810d9dc",
   "metadata": {},
   "outputs": [
    {
     "data": {
      "text/plain": [
       "0.16704"
      ]
     },
     "execution_count": 19,
     "metadata": {},
     "output_type": "execute_result"
    }
   ],
   "source": [
    "check_double = exercise1[0] == exercise1[1]\n",
    "check_double.mean()"
   ]
  },
  {
   "cell_type": "code",
   "execution_count": 37,
   "id": "e0018f00",
   "metadata": {},
   "outputs": [
    {
     "data": {
      "text/plain": [
       "0.16544"
      ]
     },
     "execution_count": 37,
     "metadata": {},
     "output_type": "execute_result"
    }
   ],
   "source": [
    "# review\n",
    "rolls = np.random.choice([1,2,3,4,5,6], size = (100000,2))\n",
    "(rolls[:,0] == rolls[:,1]).mean()"
   ]
  },
  {
   "cell_type": "code",
   "execution_count": 42,
   "id": "b435cf1b",
   "metadata": {},
   "outputs": [
    {
     "data": {
      "text/plain": [
       "0.166435"
      ]
     },
     "execution_count": 42,
     "metadata": {},
     "output_type": "execute_result"
    }
   ],
   "source": [
    "roll_1 = np.random.choice([1,2,3,4,5,6], size = (100000,2))\n",
    "roll_2 = np.random.choice([1,2,3,4,5,6], size = (100000,2))\n",
    "\n",
    "(roll_1 == roll_2).mean()"
   ]
  },
  {
   "cell_type": "markdown",
   "id": "18a6e69b",
   "metadata": {},
   "source": [
    "### 2.If you flip 8 coins, what is the probability of getting exactly 3 heads? What is the probability of getting more than 3 heads?"
   ]
  },
  {
   "cell_type": "code",
   "execution_count": 22,
   "id": "e13e79bb",
   "metadata": {},
   "outputs": [
    {
     "data": {
      "text/plain": [
       "array([[0, 0, 1, ..., 1, 0, 1],\n",
       "       [0, 1, 1, ..., 1, 1, 0],\n",
       "       [1, 0, 1, ..., 1, 0, 0],\n",
       "       ...,\n",
       "       [0, 1, 1, ..., 0, 1, 1],\n",
       "       [1, 1, 0, ..., 1, 0, 0],\n",
       "       [0, 0, 0, ..., 0, 1, 0]])"
      ]
     },
     "execution_count": 22,
     "metadata": {},
     "output_type": "execute_result"
    }
   ],
   "source": [
    "# head = 1, tail = 0\n",
    "exercise2 = np.random.choice([0,1], size = (100000,8))\n",
    "exercise2"
   ]
  },
  {
   "cell_type": "code",
   "execution_count": 24,
   "id": "8270dd7b",
   "metadata": {},
   "outputs": [
    {
     "data": {
      "text/plain": [
       "array([4, 5, 4, ..., 5, 4, 2])"
      ]
     },
     "execution_count": 24,
     "metadata": {},
     "output_type": "execute_result"
    }
   ],
   "source": [
    "head_total = exercise2.sum(axis=1)\n",
    "head_total"
   ]
  },
  {
   "cell_type": "code",
   "execution_count": 26,
   "id": "bb782929",
   "metadata": {},
   "outputs": [
    {
     "data": {
      "text/plain": [
       "0.2192"
      ]
     },
     "execution_count": 26,
     "metadata": {},
     "output_type": "execute_result"
    }
   ],
   "source": [
    "three_heads = head_total == 3\n",
    "three_heads.mean()"
   ]
  },
  {
   "cell_type": "code",
   "execution_count": 28,
   "id": "c01b0521",
   "metadata": {},
   "outputs": [
    {
     "data": {
      "text/plain": [
       "0.63637"
      ]
     },
     "execution_count": 28,
     "metadata": {},
     "output_type": "execute_result"
    }
   ],
   "source": [
    "three_more_heads = head_total > 3\n",
    "three_more_heads.mean()"
   ]
  },
  {
   "cell_type": "markdown",
   "id": "a1ba51ae",
   "metadata": {},
   "source": [
    "### 3. There are approximitely 3 web development cohorts for every 1 data science cohort at Codeup. Assuming that Codeup randomly selects an alumni to put on a billboard, what are the odds that the two billboards I drive past both have data science students on them?"
   ]
  },
  {
   "cell_type": "code",
   "execution_count": 29,
   "id": "ea23366d",
   "metadata": {},
   "outputs": [
    {
     "data": {
      "text/plain": [
       "array([[1, 0],\n",
       "       [1, 0],\n",
       "       [0, 0],\n",
       "       ...,\n",
       "       [1, 1],\n",
       "       [0, 0],\n",
       "       [1, 1]])"
      ]
     },
     "execution_count": 29,
     "metadata": {},
     "output_type": "execute_result"
    }
   ],
   "source": [
    "# Data science = 1, Wed development = 0\n",
    "exercise3 = np.random.choice([1,0,0,0], size = (100000,2))\n",
    "exercise3"
   ]
  },
  {
   "cell_type": "code",
   "execution_count": 33,
   "id": "56f2c81e",
   "metadata": {},
   "outputs": [
    {
     "data": {
      "text/plain": [
       "array([1, 1, 0, ..., 2, 0, 2])"
      ]
     },
     "execution_count": 33,
     "metadata": {},
     "output_type": "execute_result"
    }
   ],
   "source": [
    "data_science = exercise3.sum(axis=1)\n",
    "data_science"
   ]
  },
  {
   "cell_type": "code",
   "execution_count": 35,
   "id": "edced512",
   "metadata": {},
   "outputs": [
    {
     "data": {
      "text/plain": [
       "0.06229"
      ]
     },
     "execution_count": 35,
     "metadata": {},
     "output_type": "execute_result"
    }
   ],
   "source": [
    "two_data_science = data_science == 2\n",
    "two_data_science.mean()"
   ]
  },
  {
   "cell_type": "markdown",
   "id": "2d2246c2",
   "metadata": {},
   "source": [
    "### 4. Codeup students buy, on average, 3 poptart packages with a standard deviation of 1.5 a day from the snack vending machine. If on monday the machine is restocked with 17 poptart packages, how likely is it that I will be able to buy some poptarts on Friday afternoon? (Remember, if you have mean and standard deviation, use the np.random.normal) You'll need to make a judgement call on how to handle some of your values"
   ]
  },
  {
   "cell_type": "code",
   "execution_count": 144,
   "id": "a78d4f95",
   "metadata": {},
   "outputs": [
    {
     "data": {
      "text/plain": [
       "array([[1.37581463, 3.9477646 , 1.10416262, 2.01281937, 4.19155613],\n",
       "       [3.78910465, 4.95005625, 4.16125244, 6.03674082, 2.24651461],\n",
       "       [3.8382579 , 2.25711925, 4.04736104, 2.54416921, 4.37110875],\n",
       "       ...,\n",
       "       [3.22073508, 4.46825619, 1.80874885, 3.78846559, 2.96527388],\n",
       "       [2.98790944, 1.70267943, 2.4460888 , 4.67105458, 4.40288575],\n",
       "       [3.04665571, 0.34818509, 5.30911426, 3.00248527, 5.56686208]])"
      ]
     },
     "execution_count": 144,
     "metadata": {},
     "output_type": "execute_result"
    }
   ],
   "source": [
    "exercise4 = np.random.normal(3, 1.5, (100000,5))\n",
    "exercise4"
   ]
  },
  {
   "cell_type": "code",
   "execution_count": 145,
   "id": "f3fb2484",
   "metadata": {},
   "outputs": [
    {
     "data": {
      "text/plain": [
       "array([[1., 4., 1., 2., 4.],\n",
       "       [4., 5., 4., 6., 2.],\n",
       "       [4., 2., 4., 3., 4.],\n",
       "       ...,\n",
       "       [3., 4., 2., 4., 3.],\n",
       "       [3., 2., 2., 5., 4.],\n",
       "       [3., 0., 5., 3., 6.]])"
      ]
     },
     "execution_count": 145,
     "metadata": {},
     "output_type": "execute_result"
    }
   ],
   "source": [
    "exercise4 = exercise4.round()\n",
    "exercise4"
   ]
  },
  {
   "cell_type": "code",
   "execution_count": 146,
   "id": "23d25d48",
   "metadata": {},
   "outputs": [
    {
     "data": {
      "text/plain": [
       "0.67206"
      ]
     },
     "execution_count": 146,
     "metadata": {},
     "output_type": "execute_result"
    }
   ],
   "source": [
    "friday = exercise4.sum(axis=1) < 17\n",
    "friday.mean()"
   ]
  },
  {
   "cell_type": "markdown",
   "id": "84ddc7e8",
   "metadata": {},
   "source": [
    "### 5. Compare Heights\n",
    "#### * Men have an average height of 178 cm and standard deviation of 8cm.\n",
    "#### * Women have a mean of 170, sd = 6cm.\n",
    "#### * Since you have means and standard deviations, you can use np.random.normal to generate observations.\n",
    "#### * If a man and woman are chosen at random, what is the likelihood the woman is taller than the man?"
   ]
  },
  {
   "cell_type": "code",
   "execution_count": 60,
   "id": "be102f30",
   "metadata": {},
   "outputs": [
    {
     "data": {
      "text/plain": [
       "array([[182.],\n",
       "       [186.],\n",
       "       [184.],\n",
       "       ...,\n",
       "       [172.],\n",
       "       [181.],\n",
       "       [194.]])"
      ]
     },
     "execution_count": 60,
     "metadata": {},
     "output_type": "execute_result"
    }
   ],
   "source": [
    "man = np.random.normal(178, 8, (100000,1))\n",
    "man = man.round()\n",
    "man"
   ]
  },
  {
   "cell_type": "code",
   "execution_count": 61,
   "id": "8f347a4d",
   "metadata": {},
   "outputs": [
    {
     "data": {
      "text/plain": [
       "array([[170.],\n",
       "       [167.],\n",
       "       [172.],\n",
       "       ...,\n",
       "       [174.],\n",
       "       [169.],\n",
       "       [174.]])"
      ]
     },
     "execution_count": 61,
     "metadata": {},
     "output_type": "execute_result"
    }
   ],
   "source": [
    "woman = (np.random.normal(170, 6, (100000,1))).round()\n",
    "woman"
   ]
  },
  {
   "cell_type": "code",
   "execution_count": 62,
   "id": "c9e1bcc6",
   "metadata": {},
   "outputs": [
    {
     "data": {
      "text/plain": [
       "0.19824"
      ]
     },
     "execution_count": 62,
     "metadata": {},
     "output_type": "execute_result"
    }
   ],
   "source": [
    "(woman > man).mean()"
   ]
  },
  {
   "cell_type": "markdown",
   "id": "5ee89fdf",
   "metadata": {},
   "source": [
    "### 6. When installing anaconda on a student's computer, there's a 1 in 250 chance that the download is corrupted and the installation fails. What are the odds that after having 50 students download anaconda, no one has an installation issue? 100 students?\n",
    "\n",
    "### What is the probability that we observe an installation issue within the first 150 students that download anaconda?\n",
    "### How likely is it that 450 students all download anaconda without an issue?"
   ]
  },
  {
   "cell_type": "code",
   "execution_count": 65,
   "id": "7219f600",
   "metadata": {},
   "outputs": [
    {
     "data": {
      "text/plain": [
       "0.004"
      ]
     },
     "execution_count": 65,
     "metadata": {},
     "output_type": "execute_result"
    }
   ],
   "source": [
    "fail = 1/250\n",
    "fail"
   ]
  },
  {
   "cell_type": "code",
   "execution_count": 82,
   "id": "c0cf07fb",
   "metadata": {},
   "outputs": [
    {
     "data": {
      "text/plain": [
       "0.81852"
      ]
     },
     "execution_count": 82,
     "metadata": {},
     "output_type": "execute_result"
    }
   ],
   "source": [
    "fifty_students = (np.random.random((100000, 50)) > fail).prod(axis=1).mean()\n",
    "fifty_students"
   ]
  },
  {
   "cell_type": "code",
   "execution_count": 83,
   "id": "d334f666",
   "metadata": {},
   "outputs": [
    {
     "data": {
      "text/plain": [
       "0.66945"
      ]
     },
     "execution_count": 83,
     "metadata": {},
     "output_type": "execute_result"
    }
   ],
   "source": [
    "one_hundred_students = (np.random.random((100000, 100)) > fail).prod(axis=1).mean()\n",
    "one_hundred_students"
   ]
  },
  {
   "cell_type": "code",
   "execution_count": 143,
   "id": "217c09ba",
   "metadata": {},
   "outputs": [
    {
     "data": {
      "text/plain": [
       "0.45086000000000004"
      ]
     },
     "execution_count": 143,
     "metadata": {},
     "output_type": "execute_result"
    }
   ],
   "source": [
    "one_fifty_students = 1 - (np.random.random((100000, 150)) > fail).prod(axis=1).mean()\n",
    "one_fifty_students"
   ]
  },
  {
   "cell_type": "code",
   "execution_count": 88,
   "id": "a589caae",
   "metadata": {},
   "outputs": [
    {
     "data": {
      "text/plain": [
       "0.16448"
      ]
     },
     "execution_count": 88,
     "metadata": {},
     "output_type": "execute_result"
    }
   ],
   "source": [
    "four_fifty_students = (np.random.random((100000, 450)) > fail).prod(axis=1).mean()\n",
    "four_fifty_students"
   ]
  },
  {
   "cell_type": "markdown",
   "id": "bc17f630",
   "metadata": {},
   "source": [
    "### 7. There's a 70% chance on any given day that there will be at least one food truck at Travis Park. However, you haven't seen a food truck there in 3 days. How unlikely is this?\n",
    "\n",
    "### How likely is it that a food truck will show up sometime this week?"
   ]
  },
  {
   "cell_type": "code",
   "execution_count": 102,
   "id": "a3d87126",
   "metadata": {},
   "outputs": [
    {
     "data": {
      "text/plain": [
       "0.02786"
      ]
     },
     "execution_count": 102,
     "metadata": {},
     "output_type": "execute_result"
    }
   ],
   "source": [
    "# no food truck = 0, has food truck = 1\n",
    "\n",
    "three_days_no_truck = (np.random.random((100000,3)) > 0.7).prod(axis=1).mean()\n",
    "three_days_no_truck"
   ]
  },
  {
   "cell_type": "code",
   "execution_count": 51,
   "id": "9d9f785e",
   "metadata": {},
   "outputs": [
    {
     "data": {
      "text/plain": [
       "0.9105"
      ]
     },
     "execution_count": 51,
     "metadata": {},
     "output_type": "execute_result"
    }
   ],
   "source": [
    "week1 = np.random.choice([1,0], p=[.7, .3], size=(10_000, 2))\n",
    "(week1.sum(axis=1) >= 1).mean()"
   ]
  },
  {
   "cell_type": "code",
   "execution_count": 44,
   "id": "c74a3277",
   "metadata": {},
   "outputs": [
    {
     "data": {
      "text/plain": [
       "array([[0, 0, 1],\n",
       "       [1, 1, 0],\n",
       "       [1, 1, 1],\n",
       "       ...,\n",
       "       [0, 1, 1],\n",
       "       [0, 1, 1],\n",
       "       [1, 0, 1]])"
      ]
     },
     "execution_count": 44,
     "metadata": {},
     "output_type": "execute_result"
    }
   ],
   "source": [
    "# review\n",
    "trucks = np.random.choice([0,1], size = (100000,3), p = [0.3, 0.7])\n",
    "trucks"
   ]
  },
  {
   "cell_type": "code",
   "execution_count": 46,
   "id": "fc696908",
   "metadata": {},
   "outputs": [
    {
     "data": {
      "text/plain": [
       "0.02654"
      ]
     },
     "execution_count": 46,
     "metadata": {},
     "output_type": "execute_result"
    }
   ],
   "source": [
    "# no truck shows in 3 days\n",
    "(trucks.sum(axis=1) == 0).mean()"
   ]
  },
  {
   "cell_type": "code",
   "execution_count": 48,
   "id": "25b1a1cd",
   "metadata": {},
   "outputs": [
    {
     "data": {
      "text/plain": [
       "array([[0, 1],\n",
       "       [0, 1],\n",
       "       [1, 1],\n",
       "       ...,\n",
       "       [1, 1],\n",
       "       [1, 0],\n",
       "       [1, 0]])"
      ]
     },
     "execution_count": 48,
     "metadata": {},
     "output_type": "execute_result"
    }
   ],
   "source": [
    "# shows in next 2 days\n",
    "trcuk_1 = np.random.choice([0,1], size = (100000,2), p = [0.3, 0.7])\n",
    "trcuk_1"
   ]
  },
  {
   "cell_type": "code",
   "execution_count": 49,
   "id": "699e63b9",
   "metadata": {},
   "outputs": [
    {
     "data": {
      "text/plain": [
       "0.90994"
      ]
     },
     "execution_count": 49,
     "metadata": {},
     "output_type": "execute_result"
    }
   ],
   "source": [
    "(trcuk_1.sum(axis=1) > 0).mean()"
   ]
  },
  {
   "cell_type": "markdown",
   "id": "f8d612f2",
   "metadata": {},
   "source": [
    "### 8. If 23 people are in the same room, what are the odds that at least two or more of them share a birthday? What if it's 20 people? 40?"
   ]
  },
  {
   "cell_type": "code",
   "execution_count": 61,
   "id": "83ee4ba6",
   "metadata": {},
   "outputs": [
    {
     "data": {
      "text/plain": [
       "array([[285, 287,  37, ..., 204,  94, 365],\n",
       "       [  7,  38,  64, ...,  67, 243,  75],\n",
       "       [  3, 357,   6, ...,  85,  51, 220],\n",
       "       ...,\n",
       "       [163,  40,  54, ...,  32,  98, 306],\n",
       "       [102,  36,  41, ..., 140,  58,   4],\n",
       "       [271, 270, 268, ..., 295, 268,  24]])"
      ]
     },
     "execution_count": 61,
     "metadata": {},
     "output_type": "execute_result"
    }
   ],
   "source": [
    "random_23_birthdays = np.random.randint(1,366, size = (100000,23))\n",
    "random_23_birthdays"
   ]
  },
  {
   "cell_type": "code",
   "execution_count": null,
   "id": "e2eac20d",
   "metadata": {},
   "outputs": [],
   "source": [
    "# random_23_birthdays = np.random.choice(range(1,366),size = (100000,23))"
   ]
  },
  {
   "cell_type": "code",
   "execution_count": 54,
   "id": "69330dab",
   "metadata": {},
   "outputs": [
    {
     "data": {
      "text/plain": [
       "0.5081"
      ]
     },
     "execution_count": 54,
     "metadata": {},
     "output_type": "execute_result"
    }
   ],
   "source": [
    "(pd.DataFrame(random_23_birthdays).nunique(axis=1) < 23).mean()"
   ]
  },
  {
   "cell_type": "code",
   "execution_count": 57,
   "id": "a01613f2",
   "metadata": {},
   "outputs": [
    {
     "data": {
      "text/plain": [
       "0.41353"
      ]
     },
     "execution_count": 57,
     "metadata": {},
     "output_type": "execute_result"
    }
   ],
   "source": [
    "(pd.DataFrame(np.random.randint(1,365, size = (100000,20))).nunique(axis=1) < 20).mean()"
   ]
  },
  {
   "cell_type": "code",
   "execution_count": 58,
   "id": "6b7241b3",
   "metadata": {},
   "outputs": [
    {
     "data": {
      "text/plain": [
       "0.89065"
      ]
     },
     "execution_count": 58,
     "metadata": {},
     "output_type": "execute_result"
    }
   ],
   "source": [
    "(pd.DataFrame(np.random.randint(1,365, size = (100000,40))).nunique(axis=1) < 40).mean()"
   ]
  },
  {
   "cell_type": "markdown",
   "id": "56e36158",
   "metadata": {},
   "source": [
    "## Mage Duel!"
   ]
  },
  {
   "cell_type": "markdown",
   "id": "aa9bee07",
   "metadata": {},
   "source": [
    "Let's use what we've learned to play a mage duel!\n",
    "\n",
    "Imagine your wizard has 6d4 health points and you have spells that do 6d4 damage. \"6d4\" means rolling six 4-sided dice and summing the result.\n",
    "\n",
    "Your opposing mage has 4d6 health points and spells that do 4d6. \"4d6\" means rolling four six-sided dice and summing the result.\n",
    "\n",
    "Exercises\n",
    "Simulate mage duels to answer who is the more powerful mage?\n",
    "\n",
    "1. Before running simulations, do you have a hypothesis of which mage will win? Do you have a hunch? Write it down. This is your first exercise.\n",
    "2. Simulate 10 mage duels. Is there a clear winner? Run that 10 duel simulation again. Was the answer similar?\n",
    "3. Do the results change much at 100 duels?\n",
    "4. Now, simulate 10,000 mage duels. Is there a clear winner?"
   ]
  },
  {
   "cell_type": "code",
   "execution_count": 15,
   "id": "d9d09270",
   "metadata": {},
   "outputs": [],
   "source": [
    "# mage1 = 6d4 (rolling six 4-sided dice), mage2 = 4d6, (rolling four six-sided dice)\n",
    "# exercises 1\n",
    "n = 100000\n",
    "mage1_health = np.random.choice([1,2,3,4], size = (n,6))\n",
    "mage1_spell = np.random.choice([1,2,3,4], size = (n,6))"
   ]
  },
  {
   "cell_type": "code",
   "execution_count": 16,
   "id": "ea2d2681",
   "metadata": {},
   "outputs": [],
   "source": [
    "mage2_health = np.random.choice([1,2,3,4,5,6], size = (n,4))\n",
    "mage2_spell = np.random.choice([1,2,3,4,5,6], size = (n,4))"
   ]
  },
  {
   "cell_type": "code",
   "execution_count": 19,
   "id": "0ffb550f",
   "metadata": {},
   "outputs": [
    {
     "data": {
      "text/plain": [
       "0.3679"
      ]
     },
     "execution_count": 19,
     "metadata": {},
     "output_type": "execute_result"
    }
   ],
   "source": [
    "mage1_servival = mage2_spell.sum(axis=1) - mage1_health.sum(axis=1)\n",
    "(mage1_servival > 0).mean()"
   ]
  },
  {
   "cell_type": "code",
   "execution_count": 21,
   "id": "21ca40ac",
   "metadata": {},
   "outputs": [
    {
     "data": {
      "text/plain": [
       "0.54573"
      ]
     },
     "execution_count": 21,
     "metadata": {},
     "output_type": "execute_result"
    }
   ],
   "source": [
    "mage2_servival = mage1_spell.sum(axis=1) - mage2_health.sum(axis=1)\n",
    "(mage2_servival > 0).mean()"
   ]
  },
  {
   "cell_type": "code",
   "execution_count": null,
   "id": "e62ebe59",
   "metadata": {},
   "outputs": [],
   "source": [
    "# exercise 2\n"
   ]
  },
  {
   "cell_type": "code",
   "execution_count": null,
   "id": "c8298d92",
   "metadata": {},
   "outputs": [],
   "source": []
  },
  {
   "cell_type": "code",
   "execution_count": null,
   "id": "2e309f7f",
   "metadata": {},
   "outputs": [],
   "source": []
  }
 ],
 "metadata": {
  "kernelspec": {
   "display_name": "Python 3 (ipykernel)",
   "language": "python",
   "name": "python3"
  },
  "language_info": {
   "codemirror_mode": {
    "name": "ipython",
    "version": 3
   },
   "file_extension": ".py",
   "mimetype": "text/x-python",
   "name": "python",
   "nbconvert_exporter": "python",
   "pygments_lexer": "ipython3",
   "version": "3.9.12"
  }
 },
 "nbformat": 4,
 "nbformat_minor": 5
}
