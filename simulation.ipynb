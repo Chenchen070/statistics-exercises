{
 "cells": [
  {
   "cell_type": "code",
   "execution_count": 1,
   "id": "918d732c",
   "metadata": {},
   "outputs": [],
   "source": [
    "import numpy as np\n",
    "import pandas as pd\n",
    "import matplotlib.pyplot as plt"
   ]
  },
  {
   "cell_type": "markdown",
   "id": "499da211",
   "metadata": {},
   "source": [
    "### 1. How likely is it that you roll doubles when rolling two dice?"
   ]
  },
  {
   "cell_type": "code",
   "execution_count": 18,
   "id": "33836d28",
   "metadata": {},
   "outputs": [
    {
     "data": {
      "text/html": [
       "<div>\n",
       "<style scoped>\n",
       "    .dataframe tbody tr th:only-of-type {\n",
       "        vertical-align: middle;\n",
       "    }\n",
       "\n",
       "    .dataframe tbody tr th {\n",
       "        vertical-align: top;\n",
       "    }\n",
       "\n",
       "    .dataframe thead th {\n",
       "        text-align: right;\n",
       "    }\n",
       "</style>\n",
       "<table border=\"1\" class=\"dataframe\">\n",
       "  <thead>\n",
       "    <tr style=\"text-align: right;\">\n",
       "      <th></th>\n",
       "      <th>0</th>\n",
       "      <th>1</th>\n",
       "    </tr>\n",
       "  </thead>\n",
       "  <tbody>\n",
       "    <tr>\n",
       "      <th>0</th>\n",
       "      <td>3</td>\n",
       "      <td>1</td>\n",
       "    </tr>\n",
       "    <tr>\n",
       "      <th>1</th>\n",
       "      <td>3</td>\n",
       "      <td>4</td>\n",
       "    </tr>\n",
       "    <tr>\n",
       "      <th>2</th>\n",
       "      <td>5</td>\n",
       "      <td>1</td>\n",
       "    </tr>\n",
       "    <tr>\n",
       "      <th>3</th>\n",
       "      <td>4</td>\n",
       "      <td>2</td>\n",
       "    </tr>\n",
       "    <tr>\n",
       "      <th>4</th>\n",
       "      <td>3</td>\n",
       "      <td>2</td>\n",
       "    </tr>\n",
       "  </tbody>\n",
       "</table>\n",
       "</div>"
      ],
      "text/plain": [
       "   0  1\n",
       "0  3  1\n",
       "1  3  4\n",
       "2  5  1\n",
       "3  4  2\n",
       "4  3  2"
      ]
     },
     "execution_count": 18,
     "metadata": {},
     "output_type": "execute_result"
    }
   ],
   "source": [
    "exercise1 = pd.DataFrame(np.random.choice([1,2,3,4,5,6], size = (100000,2)))\n",
    "exercise1.head()"
   ]
  },
  {
   "cell_type": "code",
   "execution_count": 19,
   "id": "8810d9dc",
   "metadata": {},
   "outputs": [
    {
     "data": {
      "text/plain": [
       "0.16704"
      ]
     },
     "execution_count": 19,
     "metadata": {},
     "output_type": "execute_result"
    }
   ],
   "source": [
    "check_double = exercise1[0] == exercise1[1]\n",
    "check_double.mean()"
   ]
  },
  {
   "cell_type": "markdown",
   "id": "18a6e69b",
   "metadata": {},
   "source": [
    "### 2.If you flip 8 coins, what is the probability of getting exactly 3 heads? What is the probability of getting more than 3 heads?"
   ]
  },
  {
   "cell_type": "code",
   "execution_count": 22,
   "id": "e13e79bb",
   "metadata": {},
   "outputs": [
    {
     "data": {
      "text/plain": [
       "array([[0, 0, 1, ..., 1, 0, 1],\n",
       "       [0, 1, 1, ..., 1, 1, 0],\n",
       "       [1, 0, 1, ..., 1, 0, 0],\n",
       "       ...,\n",
       "       [0, 1, 1, ..., 0, 1, 1],\n",
       "       [1, 1, 0, ..., 1, 0, 0],\n",
       "       [0, 0, 0, ..., 0, 1, 0]])"
      ]
     },
     "execution_count": 22,
     "metadata": {},
     "output_type": "execute_result"
    }
   ],
   "source": [
    "# head = 1, tail = 0\n",
    "exercise2 = np.random.choice([0,1], size = (100000,8))\n",
    "exercise2"
   ]
  },
  {
   "cell_type": "code",
   "execution_count": 24,
   "id": "8270dd7b",
   "metadata": {},
   "outputs": [
    {
     "data": {
      "text/plain": [
       "array([4, 5, 4, ..., 5, 4, 2])"
      ]
     },
     "execution_count": 24,
     "metadata": {},
     "output_type": "execute_result"
    }
   ],
   "source": [
    "head_total = exercise2.sum(axis=1)\n",
    "head_total"
   ]
  },
  {
   "cell_type": "code",
   "execution_count": 26,
   "id": "bb782929",
   "metadata": {},
   "outputs": [
    {
     "data": {
      "text/plain": [
       "0.2192"
      ]
     },
     "execution_count": 26,
     "metadata": {},
     "output_type": "execute_result"
    }
   ],
   "source": [
    "three_heads = head_total == 3\n",
    "three_heads.mean()"
   ]
  },
  {
   "cell_type": "code",
   "execution_count": 28,
   "id": "c01b0521",
   "metadata": {},
   "outputs": [
    {
     "data": {
      "text/plain": [
       "0.63637"
      ]
     },
     "execution_count": 28,
     "metadata": {},
     "output_type": "execute_result"
    }
   ],
   "source": [
    "three_more_heads = head_total > 3\n",
    "three_more_heads.mean()"
   ]
  },
  {
   "cell_type": "markdown",
   "id": "a1ba51ae",
   "metadata": {},
   "source": [
    "### 3. There are approximitely 3 web development cohorts for every 1 data science cohort at Codeup. Assuming that Codeup randomly selects an alumni to put on a billboard, what are the odds that the two billboards I drive past both have data science students on them?"
   ]
  },
  {
   "cell_type": "code",
   "execution_count": 29,
   "id": "ea23366d",
   "metadata": {},
   "outputs": [
    {
     "data": {
      "text/plain": [
       "array([[1, 0],\n",
       "       [1, 0],\n",
       "       [0, 0],\n",
       "       ...,\n",
       "       [1, 1],\n",
       "       [0, 0],\n",
       "       [1, 1]])"
      ]
     },
     "execution_count": 29,
     "metadata": {},
     "output_type": "execute_result"
    }
   ],
   "source": [
    "# Data science = 1, Wed development = 0\n",
    "exercise3 = np.random.choice([1,0,0,0], size = (100000,2))\n",
    "exercise3"
   ]
  },
  {
   "cell_type": "code",
   "execution_count": 33,
   "id": "56f2c81e",
   "metadata": {},
   "outputs": [
    {
     "data": {
      "text/plain": [
       "array([1, 1, 0, ..., 2, 0, 2])"
      ]
     },
     "execution_count": 33,
     "metadata": {},
     "output_type": "execute_result"
    }
   ],
   "source": [
    "data_science = exercise3.sum(axis=1)\n",
    "data_science"
   ]
  },
  {
   "cell_type": "code",
   "execution_count": 35,
   "id": "edced512",
   "metadata": {},
   "outputs": [
    {
     "data": {
      "text/plain": [
       "0.06229"
      ]
     },
     "execution_count": 35,
     "metadata": {},
     "output_type": "execute_result"
    }
   ],
   "source": [
    "two_data_science = data_science == 2\n",
    "two_data_science.mean()"
   ]
  },
  {
   "cell_type": "markdown",
   "id": "2d2246c2",
   "metadata": {},
   "source": [
    "### 4. Codeup students buy, on average, 3 poptart packages with a standard deviation of 1.5 a day from the snack vending machine. If on monday the machine is restocked with 17 poptart packages, how likely is it that I will be able to buy some poptarts on Friday afternoon? (Remember, if you have mean and standard deviation, use the np.random.normal) You'll need to make a judgement call on how to handle some of your values"
   ]
  },
  {
   "cell_type": "code",
   "execution_count": 37,
   "id": "a78d4f95",
   "metadata": {},
   "outputs": [
    {
     "data": {
      "text/plain": [
       "array([[ 5.46160487,  2.05541379, -0.03630046,  3.93498872,  4.47791828],\n",
       "       [-0.08408899,  2.47477429,  1.96669448,  3.8918079 ,  1.25753632],\n",
       "       [ 2.49697197,  3.62966867,  6.75178508,  4.49441971,  1.63985588],\n",
       "       ...,\n",
       "       [ 1.99216846,  4.37825875,  1.08454203,  4.00830405,  4.01766077],\n",
       "       [ 3.44597415,  0.58112661,  2.59292868,  3.95155188,  1.67200357],\n",
       "       [ 4.12647095,  2.42920868,  4.39580463,  6.4795514 ,  2.13644907]])"
      ]
     },
     "execution_count": 37,
     "metadata": {},
     "output_type": "execute_result"
    }
   ],
   "source": [
    "exercise4 = np.random.normal(3, 1.5, (10000,5))\n",
    "exercise4"
   ]
  },
  {
   "cell_type": "code",
   "execution_count": 39,
   "id": "f3fb2484",
   "metadata": {},
   "outputs": [
    {
     "data": {
      "text/plain": [
       "array([[ 5.,  2., -0.,  4.,  4.],\n",
       "       [-0.,  2.,  2.,  4.,  1.],\n",
       "       [ 2.,  4.,  7.,  4.,  2.],\n",
       "       ...,\n",
       "       [ 2.,  4.,  1.,  4.,  4.],\n",
       "       [ 3.,  1.,  3.,  4.,  2.],\n",
       "       [ 4.,  2.,  4.,  6.,  2.]])"
      ]
     },
     "execution_count": 39,
     "metadata": {},
     "output_type": "execute_result"
    }
   ],
   "source": [
    "exercise4 = exercise4.round()\n",
    "exercise4"
   ]
  },
  {
   "cell_type": "code",
   "execution_count": 42,
   "id": "23d25d48",
   "metadata": {},
   "outputs": [
    {
     "data": {
      "text/plain": [
       "0.6725"
      ]
     },
     "execution_count": 42,
     "metadata": {},
     "output_type": "execute_result"
    }
   ],
   "source": [
    "friday = exercise4.sum(axis=1) < 17\n",
    "friday.mean()"
   ]
  },
  {
   "cell_type": "markdown",
   "id": "84ddc7e8",
   "metadata": {},
   "source": [
    "### 5. Compare Heights\n",
    "#### * Men have an average height of 178 cm and standard deviation of 8cm.\n",
    "#### * Women have a mean of 170, sd = 6cm.\n",
    "#### * Since you have means and standard deviations, you can use np.random.normal to generate observations.\n",
    "#### * If a man and woman are chosen at random, what is the likelihood the woman is taller than the man?"
   ]
  },
  {
   "cell_type": "code",
   "execution_count": 60,
   "id": "be102f30",
   "metadata": {},
   "outputs": [
    {
     "data": {
      "text/plain": [
       "array([[182.],\n",
       "       [186.],\n",
       "       [184.],\n",
       "       ...,\n",
       "       [172.],\n",
       "       [181.],\n",
       "       [194.]])"
      ]
     },
     "execution_count": 60,
     "metadata": {},
     "output_type": "execute_result"
    }
   ],
   "source": [
    "man = np.random.normal(178, 8, (100000,1))\n",
    "man = man.round()\n",
    "man"
   ]
  },
  {
   "cell_type": "code",
   "execution_count": 61,
   "id": "8f347a4d",
   "metadata": {},
   "outputs": [
    {
     "data": {
      "text/plain": [
       "array([[170.],\n",
       "       [167.],\n",
       "       [172.],\n",
       "       ...,\n",
       "       [174.],\n",
       "       [169.],\n",
       "       [174.]])"
      ]
     },
     "execution_count": 61,
     "metadata": {},
     "output_type": "execute_result"
    }
   ],
   "source": [
    "woman = (np.random.normal(170, 6, (100000,1))).round()\n",
    "woman"
   ]
  },
  {
   "cell_type": "code",
   "execution_count": 62,
   "id": "c9e1bcc6",
   "metadata": {},
   "outputs": [
    {
     "data": {
      "text/plain": [
       "0.19824"
      ]
     },
     "execution_count": 62,
     "metadata": {},
     "output_type": "execute_result"
    }
   ],
   "source": [
    "(woman > man).mean()"
   ]
  },
  {
   "cell_type": "markdown",
   "id": "5ee89fdf",
   "metadata": {},
   "source": [
    "### 6. When installing anaconda on a student's computer, there's a 1 in 250 chance that the download is corrupted and the installation fails. What are the odds that after having 50 students download anaconda, no one has an installation issue? 100 students?\n",
    "\n",
    "### What is the probability that we observe an installation issue within the first 150 students that download anaconda?\n",
    "### How likely is it that 450 students all download anaconda without an issue?"
   ]
  },
  {
   "cell_type": "code",
   "execution_count": 65,
   "id": "7219f600",
   "metadata": {},
   "outputs": [
    {
     "data": {
      "text/plain": [
       "0.004"
      ]
     },
     "execution_count": 65,
     "metadata": {},
     "output_type": "execute_result"
    }
   ],
   "source": [
    "fail = 1/250\n",
    "fail"
   ]
  },
  {
   "cell_type": "code",
   "execution_count": 82,
   "id": "c0cf07fb",
   "metadata": {},
   "outputs": [
    {
     "data": {
      "text/plain": [
       "0.81852"
      ]
     },
     "execution_count": 82,
     "metadata": {},
     "output_type": "execute_result"
    }
   ],
   "source": [
    "fifty_students = (np.random.random((100000, 50)) > fail).prod(axis=1).mean()\n",
    "fifty_students"
   ]
  },
  {
   "cell_type": "code",
   "execution_count": 83,
   "id": "d334f666",
   "metadata": {},
   "outputs": [
    {
     "data": {
      "text/plain": [
       "0.66945"
      ]
     },
     "execution_count": 83,
     "metadata": {},
     "output_type": "execute_result"
    }
   ],
   "source": [
    "one_hundred_students = (np.random.random((100000, 100)) > fail).prod(axis=1).mean()\n",
    "one_hundred_students"
   ]
  },
  {
   "cell_type": "code",
   "execution_count": 85,
   "id": "217c09ba",
   "metadata": {},
   "outputs": [
    {
     "data": {
      "text/plain": [
       "0.45289999999999997"
      ]
     },
     "execution_count": 85,
     "metadata": {},
     "output_type": "execute_result"
    }
   ],
   "source": [
    "one_fifty_students = 1 - (np.random.random((10000, 150)) > fail).prod(axis=1).mean()\n",
    "one_fifty_students"
   ]
  },
  {
   "cell_type": "code",
   "execution_count": 88,
   "id": "a589caae",
   "metadata": {},
   "outputs": [
    {
     "data": {
      "text/plain": [
       "0.16448"
      ]
     },
     "execution_count": 88,
     "metadata": {},
     "output_type": "execute_result"
    }
   ],
   "source": [
    "four_fifty_students = (np.random.random((100000, 450)) > fail).prod(axis=1).mean()\n",
    "four_fifty_students"
   ]
  },
  {
   "cell_type": "markdown",
   "id": "b92bd042",
   "metadata": {},
   "source": [
    "### 7. There's a 70% chance on any given day that there will be at least one food truck at Travis Park. However, you haven't seen a food truck there in 3 days. How unlikely is this?\n",
    "\n",
    "### How likely is it that a food truck will show up sometime this week?"
   ]
  },
  {
   "cell_type": "code",
   "execution_count": 102,
   "id": "a3d87126",
   "metadata": {},
   "outputs": [
    {
     "data": {
      "text/plain": [
       "0.02786"
      ]
     },
     "execution_count": 102,
     "metadata": {},
     "output_type": "execute_result"
    }
   ],
   "source": [
    "# no food truck = 0, has food truck = 1\n",
    "\n",
    "three_days_no_truck = (np.random.random((100000,3)) > 0.7).prod(axis=1).mean()\n",
    "three_days_no_truck"
   ]
  },
  {
   "cell_type": "code",
   "execution_count": 110,
   "id": "54845df2",
   "metadata": {},
   "outputs": [
    {
     "data": {
      "text/plain": [
       "0.08268"
      ]
     },
     "execution_count": 110,
     "metadata": {},
     "output_type": "execute_result"
    }
   ],
   "source": [
    "week = (np.random.random((100000,7)) <= 0.7).prod(axis=1).mean()\n",
    "week"
   ]
  },
  {
   "cell_type": "markdown",
   "id": "77ad8e9f",
   "metadata": {},
   "source": [
    "### 8. If 23 people are in the same room, what are the odds that two of them share a birthday? What if it's 20 people? 40?"
   ]
  },
  {
   "cell_type": "code",
   "execution_count": 125,
   "id": "5c86fd8a",
   "metadata": {},
   "outputs": [
    {
     "data": {
      "text/plain": [
       "array([[160,  66, 316, ..., 217, 356, 280],\n",
       "       [319, 138, 202, ..., 270, 200,  40],\n",
       "       [133,  56, 343, ..., 314, 190, 360],\n",
       "       ...,\n",
       "       [211, 220,  95, ...,  43, 124,   4],\n",
       "       [ 25, 120,  42, ...,  31,  61, 251],\n",
       "       [253, 104, 139, ..., 207,  26,  70]])"
      ]
     },
     "execution_count": 125,
     "metadata": {},
     "output_type": "execute_result"
    }
   ],
   "source": [
    "random_23_birthdays = np.random.randint(1,366,(100000,23))\n",
    "random_23_birthdays"
   ]
  },
  {
   "cell_type": "code",
   "execution_count": 138,
   "id": "a4e4530d",
   "metadata": {},
   "outputs": [
    {
     "data": {
      "text/plain": [
       "0.36403"
      ]
     },
     "execution_count": 138,
     "metadata": {},
     "output_type": "execute_result"
    }
   ],
   "source": [
    "(pd.DataFrame(random_23_birthdays).nunique(axis=1) == 22).mean()"
   ]
  },
  {
   "cell_type": "code",
   "execution_count": 140,
   "id": "eea6901b",
   "metadata": {},
   "outputs": [
    {
     "data": {
      "text/plain": [
       "0.32318"
      ]
     },
     "execution_count": 140,
     "metadata": {},
     "output_type": "execute_result"
    }
   ],
   "source": [
    "(pd.DataFrame(np.random.randint(1,366,(100000,20))).nunique(axis=1) == 19).mean()"
   ]
  },
  {
   "cell_type": "code",
   "execution_count": 141,
   "id": "a60b6f19",
   "metadata": {},
   "outputs": [
    {
     "data": {
      "text/plain": [
       "0.25926"
      ]
     },
     "execution_count": 141,
     "metadata": {},
     "output_type": "execute_result"
    }
   ],
   "source": [
    "(pd.DataFrame(np.random.randint(1,366,(100000,40))).nunique(axis=1) == 39).mean()"
   ]
  },
  {
   "cell_type": "code",
   "execution_count": null,
   "id": "db47040d",
   "metadata": {},
   "outputs": [],
   "source": []
  },
  {
   "cell_type": "code",
   "execution_count": null,
   "id": "db4cc804",
   "metadata": {},
   "outputs": [],
   "source": []
  },
  {
   "cell_type": "code",
   "execution_count": null,
   "id": "c72be06e",
   "metadata": {},
   "outputs": [],
   "source": []
  },
  {
   "cell_type": "code",
   "execution_count": null,
   "id": "f5ed1dff",
   "metadata": {},
   "outputs": [],
   "source": []
  }
 ],
 "metadata": {
  "kernelspec": {
   "display_name": "Python 3 (ipykernel)",
   "language": "python",
   "name": "python3"
  },
  "language_info": {
   "codemirror_mode": {
    "name": "ipython",
    "version": 3
   },
   "file_extension": ".py",
   "mimetype": "text/x-python",
   "name": "python",
   "nbconvert_exporter": "python",
   "pygments_lexer": "ipython3",
   "version": "3.9.12"
  }
 },
 "nbformat": 4,
 "nbformat_minor": 5
}
